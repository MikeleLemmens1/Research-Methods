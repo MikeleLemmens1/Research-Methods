{
 "cells": [
  {
   "cell_type": "code",
   "execution_count": 1,
   "metadata": {},
   "outputs": [],
   "source": [
    "import numpy as np\n",
    "import numpy.linalg as la \n",
    "\n",
    "A = np.array([[1,1,0,0,0,1,1,0,0,1,0],          # Er zijn 10 recepten (kolommen) en 15 verschillende\n",
    "              [1,0,1,0,0,0,0,1,0,0,1],          # ingrediënten (rijen)\n",
    "              [0,0,1,0,0,1,0,1,0,0,1],\n",
    "              [1,1,1,0,0,1,0,0,1,0,1],\n",
    "              [1,0,0,0,0,0,0,0,0,1,0],\n",
    "              [0,0,1,0,0,1,0,0,1,0,1],\n",
    "              [0,1,0,0,1,0,1,0,0,0,0],\n",
    "              [0,1,1,0,0,1,1,0,1,0,1],\n",
    "              [0,0,0,0,0,1,0,1,0,0,0],\n",
    "              [0,1,0,0,1,0,1,0,0,0,1],\n",
    "              [0,1,0,0,0,0,1,1,0,0,0],\n",
    "              [0,0,1,0,1,0,0,1,1,1,0],\n",
    "              [0,0,0,1,0,0,1,0,0,1,0],\n",
    "              [0,0,0,1,1,0,1,0,1,0,0], \n",
    "              [0,0,0,1,0,0,0,1,0,0,0]]) \n",
    "\n",
    "v1 = np.array([1,0,1,0,0,0,0,1,0,0,0,1,0,0,0,0]) # Stelt een set van 4 ingrediënten voor\n",
    "\n"
   ]
  }
 ],
 "metadata": {
  "kernelspec": {
   "display_name": "Python 3",
   "language": "python",
   "name": "python3"
  },
  "language_info": {
   "codemirror_mode": {
    "name": "ipython",
    "version": 3
   },
   "file_extension": ".py",
   "mimetype": "text/x-python",
   "name": "python",
   "nbconvert_exporter": "python",
   "pygments_lexer": "ipython3",
   "version": "3.10.11"
  }
 },
 "nbformat": 4,
 "nbformat_minor": 2
}
